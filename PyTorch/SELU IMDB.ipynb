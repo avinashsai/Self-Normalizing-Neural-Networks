{
 "cells": [
  {
   "cell_type": "code",
   "execution_count": 2,
   "metadata": {},
   "outputs": [],
   "source": [
    "import os\n",
    "import re\n",
    "import sys\n",
    "import copy\n",
    "import numpy as np\n",
    "import pandas as pd\n",
    "from nltk.tokenize import word_tokenize\n",
    "from nltk.corpus import stopwords\n",
    "from sklearn.metrics import accuracy_score,f1_score,confusion_matrix\n",
    "from sklearn.utils import shuffle\n",
    "import gensim\n",
    "from gensim.models import Word2Vec,Doc2Vec\n",
    "from gensim.models.doc2vec import TaggedDocument"
   ]
  },
  {
   "cell_type": "code",
   "execution_count": 3,
   "metadata": {},
   "outputs": [],
   "source": [
    "np.random.seed(42)"
   ]
  },
  {
   "cell_type": "code",
   "execution_count": 4,
   "metadata": {},
   "outputs": [],
   "source": [
    "import torch\n",
    "import torch.nn as nn\n",
    "import torch.optim as optim\n",
    "import torch.utils.data\n",
    "from torch.optim import lr_scheduler\n",
    "import torch.nn.functional as F\n",
    "from torch import autograd\n",
    "from torch.autograd import Variable"
   ]
  },
  {
   "cell_type": "code",
   "execution_count": 5,
   "metadata": {},
   "outputs": [],
   "source": [
    "data_path = '../Datasets/IMDB/'"
   ]
  },
  {
   "cell_type": "code",
   "execution_count": 6,
   "metadata": {},
   "outputs": [],
   "source": [
    "train_corpus = [] \n",
    "train_labels = np.zeros(25000)\n",
    "train_labels[0:12500] = 1"
   ]
  },
  {
   "cell_type": "code",
   "execution_count": 7,
   "metadata": {},
   "outputs": [],
   "source": [
    "with open(data_path+'train_pos.txt','r',encoding='latin1') as f:\n",
    "    for line in f.readlines():\n",
    "        train_corpus.append(line[:-1])\n",
    "        \n",
    "with open(data_path+'train_neg.txt','r',encoding='latin1') as f:\n",
    "    for line in f.readlines():\n",
    "        train_corpus.append(line[:-1])"
   ]
  },
  {
   "cell_type": "code",
   "execution_count": 8,
   "metadata": {},
   "outputs": [],
   "source": [
    "test_corpus = []\n",
    "test_labels = np.zeros(25000)\n",
    "test_labels[0:12500] = 1"
   ]
  },
  {
   "cell_type": "code",
   "execution_count": 9,
   "metadata": {},
   "outputs": [],
   "source": [
    "with open(data_path+'test_pos.txt','r',encoding='latin1') as f:\n",
    "    for line in f.readlines():\n",
    "        test_corpus.append(line[:-1])\n",
    "        \n",
    "with open(data_path+'test_neg.txt','r',encoding='latin1') as f:\n",
    "    for line in f.readlines():\n",
    "        test_corpus.append(line[:-1])"
   ]
  },
  {
   "cell_type": "code",
   "execution_count": 10,
   "metadata": {},
   "outputs": [],
   "source": [
    "train_corpus,train_labels = shuffle(train_corpus,train_labels)\n",
    "test_corpus,test_labels = shuffle(test_corpus,test_labels)"
   ]
  },
  {
   "cell_type": "code",
   "execution_count": 11,
   "metadata": {},
   "outputs": [],
   "source": [
    "trainlength = len(train_corpus)\n",
    "testlength = len(test_corpus)"
   ]
  },
  {
   "cell_type": "code",
   "execution_count": 12,
   "metadata": {},
   "outputs": [],
   "source": [
    "def tag_sentence(sentence,label):\n",
    "    return TaggedDocument(sentence,label)"
   ]
  },
  {
   "cell_type": "code",
   "execution_count": 13,
   "metadata": {},
   "outputs": [],
   "source": [
    "def create_tags(Xtrain,ytrain,Xtest,ytest):\n",
    "    tagged_train = []\n",
    "    tagged_test= []\n",
    "    for i in range(trainlength):\n",
    "        if(ytrain[i]==1):\n",
    "            tag = ['train_pos_'+str(i)]\n",
    "        else:\n",
    "            tag = ['train_neg_'+str(i)]\n",
    "        tagged_train.append(tag_sentence(Xtrain[i].split(),tag))\n",
    "    \n",
    "    \n",
    "    for i in range(testlength):\n",
    "        if(ytest[i]==1):\n",
    "            tag = ['test_pos_'+str(i)]\n",
    "        else:\n",
    "            tag = ['test_neg_'+str(i)]\n",
    "        tagged_test.append(tag_sentence(Xtest[i].split(),tag))\n",
    "    \n",
    "    return tagged_train,tagged_test"
   ]
  },
  {
   "cell_type": "code",
   "execution_count": 14,
   "metadata": {},
   "outputs": [],
   "source": [
    "train_tagged,test_tagged = create_tags(train_corpus,train_labels,test_corpus,test_labels)"
   ]
  },
  {
   "cell_type": "code",
   "execution_count": 15,
   "metadata": {},
   "outputs": [],
   "source": [
    "d2vmodel = Doc2Vec(min_count=1,sample=1e-4, negative=5, workers=7,vector_size=100,\n",
    "                   window=5,dm=0)"
   ]
  },
  {
   "cell_type": "code",
   "execution_count": 16,
   "metadata": {},
   "outputs": [],
   "source": [
    "d2vmodel.build_vocab(train_tagged)"
   ]
  },
  {
   "cell_type": "code",
   "execution_count": 17,
   "metadata": {},
   "outputs": [],
   "source": [
    "d2vmodel.train(train_tagged,total_examples=d2vmodel.corpus_count,epochs=20)"
   ]
  },
  {
   "cell_type": "code",
   "execution_count": 18,
   "metadata": {},
   "outputs": [],
   "source": [
    "def generate_vectors(model,traindata,testdata,train_l,test_l):\n",
    "    train_vectors = np.zeros((train_l,100))\n",
    "    test_vectors = np.zeros((test_l,100))\n",
    "    \n",
    "    train_labels = torch.zeros(train_l).long()\n",
    "    test_labels = torch.zeros(test_l).long()\n",
    "    \n",
    "    for i in range(train_l):\n",
    "        tag = traindata[i].tags[0]\n",
    "        _,label,_ = tag.split(\"_\")\n",
    "        train_vectors[i] = model.docvecs[tag]\n",
    "        if(label=='pos'):\n",
    "            train_labels[i] = 1\n",
    "            \n",
    "    for i in range(test_l):\n",
    "        tag = testdata[i].tags[0]\n",
    "        _,label,_ = tag.split(\"_\")\n",
    "        test_vectors[i] = model.infer_vector(testdata[i].words)\n",
    "        if(label=='pos'):\n",
    "            test_labels[i] = 1\n",
    "            \n",
    "    return train_vectors,train_labels,test_vectors,test_labels"
   ]
  },
  {
   "cell_type": "code",
   "execution_count": 19,
   "metadata": {},
   "outputs": [],
   "source": [
    "trainv,trainl,testv,testl = generate_vectors(d2vmodel,train_tagged,test_tagged,trainlength,testlength)"
   ]
  },
  {
   "cell_type": "code",
   "execution_count": 20,
   "metadata": {},
   "outputs": [],
   "source": [
    "trainvectors = torch.from_numpy(trainv).float()\n",
    "testvectors = torch.from_numpy(testv).float()"
   ]
  },
  {
   "cell_type": "code",
   "execution_count": 21,
   "metadata": {},
   "outputs": [],
   "source": [
    "batchsize = 50"
   ]
  },
  {
   "cell_type": "code",
   "execution_count": 22,
   "metadata": {},
   "outputs": [],
   "source": [
    "traindataset = torch.utils.data.TensorDataset(trainvectors,trainl)\n",
    "trainloader = torch.utils.data.DataLoader(traindataset,batch_size=batchsize)"
   ]
  },
  {
   "cell_type": "code",
   "execution_count": 23,
   "metadata": {},
   "outputs": [],
   "source": [
    "testdataset = torch.utils.data.TensorDataset(testvectors,testl)\n",
    "testloader = torch.utils.data.DataLoader(testdataset,batch_size=batchsize)"
   ]
  },
  {
   "cell_type": "code",
   "execution_count": 24,
   "metadata": {},
   "outputs": [],
   "source": [
    "device = torch.device(\"cuda:0\" if torch.cuda.is_available() else \"cpu\")"
   ]
  },
  {
   "cell_type": "code",
   "execution_count": 25,
   "metadata": {},
   "outputs": [],
   "source": [
    "in_features = 100\n",
    "layer1 = 64\n",
    "layer2 = 32\n",
    "out_features = 2"
   ]
  },
  {
   "cell_type": "code",
   "execution_count": 62,
   "metadata": {},
   "outputs": [],
   "source": [
    "class network1(nn.Module):\n",
    "    def __init__(self):\n",
    "        super(network1,self).__init__()\n",
    "        self.fc1 = nn.Linear(in_features,layer1)\n",
    "        self.fc2 = nn.Linear(layer1,layer2)\n",
    "        self.fc3 = nn.Linear(layer2,out_features)\n",
    "        self.drop = nn.Dropout(0.3)\n",
    "        self.relu = nn.ReLU()\n",
    "\n",
    "    def forward(self,x):\n",
    "        out = self.drop(self.relu(self.fc1(x)))\n",
    "        out = self.drop(self.relu(self.fc2(out)))\n",
    "        out =  F.log_softmax(self.fc3(out),dim=1)\n",
    "        \n",
    "        return out"
   ]
  },
  {
   "cell_type": "code",
   "execution_count": 63,
   "metadata": {},
   "outputs": [],
   "source": [
    "model1 = network1()"
   ]
  },
  {
   "cell_type": "code",
   "execution_count": 64,
   "metadata": {},
   "outputs": [],
   "source": [
    "model1 = model1.to(device)"
   ]
  },
  {
   "cell_type": "code",
   "execution_count": 65,
   "metadata": {},
   "outputs": [],
   "source": [
    "optimizer = optim.Adam(model1.parameters())"
   ]
  },
  {
   "cell_type": "code",
   "execution_count": 66,
   "metadata": {},
   "outputs": [],
   "source": [
    "numepochs = 25"
   ]
  },
  {
   "cell_type": "code",
   "execution_count": 67,
   "metadata": {},
   "outputs": [],
   "source": [
    "def evaluate_accuracy(net,loader):\n",
    "    net.eval()\n",
    "    acc = 0\n",
    "    total = 0\n",
    "    with torch.no_grad():\n",
    "        for i,(Xtrain,ytrain) in enumerate(loader):\n",
    "            Xtrain = Xtrain.to(device)\n",
    "            ytrain = ytrain.to(device)\n",
    "            \n",
    "            output = net(Xtrain)\n",
    "            _,predictions = torch.max(output,1)\n",
    "            \n",
    "            acc+=torch.sum((predictions==ytrain)).item()\n",
    "            total+=Xtrain.size(0)\n",
    "            \n",
    "        return ((acc/total)*100)"
   ]
  },
  {
   "cell_type": "code",
   "execution_count": 69,
   "metadata": {},
   "outputs": [
    {
     "name": "stdout",
     "output_type": "stream",
     "text": [
      "Epoch 0 Train Accuracy 87.5 Test Accuracy 85.264\n",
      "Epoch 1 Train Accuracy 87.712 Test Accuracy 84.66\n",
      "Epoch 2 Train Accuracy 88.096 Test Accuracy 84.576\n",
      "Epoch 3 Train Accuracy 88.368 Test Accuracy 84.42399999999999\n",
      "Epoch 4 Train Accuracy 88.66000000000001 Test Accuracy 84.368\n",
      "Epoch 5 Train Accuracy 88.916 Test Accuracy 84.336\n",
      "Epoch 6 Train Accuracy 89.108 Test Accuracy 84.232\n",
      "Epoch 7 Train Accuracy 89.25999999999999 Test Accuracy 84.248\n",
      "Epoch 8 Train Accuracy 89.52799999999999 Test Accuracy 84.004\n",
      "Epoch 9 Train Accuracy 89.792 Test Accuracy 83.82\n",
      "Epoch 10 Train Accuracy 90.008 Test Accuracy 83.75200000000001\n",
      "Epoch 11 Train Accuracy 90.152 Test Accuracy 83.56400000000001\n",
      "Epoch 12 Train Accuracy 90.224 Test Accuracy 83.48400000000001\n",
      "Epoch 13 Train Accuracy 90.49199999999999 Test Accuracy 83.25200000000001\n",
      "Epoch 14 Train Accuracy 90.728 Test Accuracy 83.244\n",
      "Epoch 15 Train Accuracy 90.84 Test Accuracy 83.26\n",
      "Epoch 16 Train Accuracy 90.972 Test Accuracy 83.16\n",
      "Epoch 17 Train Accuracy 91.02799999999999 Test Accuracy 82.988\n",
      "Epoch 18 Train Accuracy 91.208 Test Accuracy 82.88\n",
      "Epoch 19 Train Accuracy 91.316 Test Accuracy 82.772\n",
      "Epoch 20 Train Accuracy 91.464 Test Accuracy 82.628\n",
      "Epoch 21 Train Accuracy 91.61200000000001 Test Accuracy 82.452\n",
      "Epoch 22 Train Accuracy 91.676 Test Accuracy 82.372\n",
      "Epoch 23 Train Accuracy 91.912 Test Accuracy 82.27600000000001\n",
      "Epoch 24 Train Accuracy 92.132 Test Accuracy 82.16\n"
     ]
    }
   ],
   "source": [
    "model1.train()\n",
    "trainloss_relu = []\n",
    "testacc_relu = []\n",
    "for epoch in range(numepochs):\n",
    "    for i,(data,labels) in enumerate(trainloader):\n",
    "        data = data.to(device)\n",
    "        labels = labels.to(device)\n",
    "        optimizer.zero_grad()\n",
    "        output = model1(data)\n",
    "        loss = F.nll_loss(output,labels)\n",
    "        \n",
    "        loss.backward()\n",
    "        optimizer.step()\n",
    "        \n",
    "        trainloss_relu.append(loss)\n",
    "        \n",
    "    train_acc = evaluate_accuracy(model1,trainloader)\n",
    "    test_acc = evaluate_accuracy(model1,testloader)\n",
    "    testacc_relu.append(test_acc)\n",
    "    print(\"Epoch {} Train Accuracy {} Test Accuracy {}\".format(epoch,train_acc,test_acc))"
   ]
  },
  {
   "cell_type": "code",
   "execution_count": 51,
   "metadata": {},
   "outputs": [],
   "source": [
    "alpha = 1.6732632423543772848170429916717\n",
    "lamda = 1.0507009873554804934193349852946"
   ]
  },
  {
   "cell_type": "code",
   "execution_count": 52,
   "metadata": {},
   "outputs": [],
   "source": [
    "#class SELU(nn.Module):\n",
    "#    def forward(self,x):\n",
    "#        return torch.Tensor([[lamda*val if val>0 else lamda*(torch.exp(val)*alpha-alpha) for val in value] for value in x])"
   ]
  },
  {
   "cell_type": "code",
   "execution_count": 53,
   "metadata": {},
   "outputs": [],
   "source": [
    "#selu = SELU()"
   ]
  },
  {
   "cell_type": "code",
   "execution_count": 81,
   "metadata": {},
   "outputs": [],
   "source": [
    "class network2(nn.Module):\n",
    "    def __init__(self):\n",
    "        super(network2,self).__init__()\n",
    "        self.fc1 = nn.Linear(in_features,layer1)\n",
    "        self.fc2 = nn.Linear(layer1,layer2)\n",
    "        self.fc3 = nn.Linear(layer2,out_features)\n",
    "        self.drop = nn.Dropout(0.3)\n",
    "        self.selu = nn.SELU()\n",
    "\n",
    "    def forward(self,x):\n",
    "        out = self.drop(self.selu(self.fc1(x)))\n",
    "        out = self.drop(self.selu(self.fc2(out)))\n",
    "        out =  F.log_softmax(self.fc3(out),dim=1)\n",
    "        \n",
    "        return out"
   ]
  },
  {
   "cell_type": "code",
   "execution_count": 82,
   "metadata": {},
   "outputs": [],
   "source": [
    "model2 = network2().to(device)"
   ]
  },
  {
   "cell_type": "code",
   "execution_count": 83,
   "metadata": {},
   "outputs": [],
   "source": [
    "optimizer_selu = optim.Adam(model2.parameters(),lr=0.001)"
   ]
  },
  {
   "cell_type": "code",
   "execution_count": 84,
   "metadata": {},
   "outputs": [
    {
     "name": "stdout",
     "output_type": "stream",
     "text": [
      "Epoch 0 Train Accuracy 77.104 Test Accuracy 75.452\n",
      "Epoch 1 Train Accuracy 67.288 Test Accuracy 66.968\n",
      "Epoch 2 Train Accuracy 50.0 Test Accuracy 50.0\n",
      "Epoch 3 Train Accuracy 86.208 Test Accuracy 84.408\n",
      "Epoch 4 Train Accuracy 50.0 Test Accuracy 50.0\n",
      "Epoch 5 Train Accuracy 50.0 Test Accuracy 50.012\n",
      "Epoch 6 Train Accuracy 50.096 Test Accuracy 50.368\n",
      "Epoch 7 Train Accuracy 50.0 Test Accuracy 50.0\n",
      "Epoch 8 Train Accuracy 50.0 Test Accuracy 50.0\n",
      "Epoch 9 Train Accuracy 50.0 Test Accuracy 50.0\n",
      "Epoch 10 Train Accuracy 50.0 Test Accuracy 50.0\n",
      "Epoch 11 Train Accuracy 50.0 Test Accuracy 50.0\n",
      "Epoch 12 Train Accuracy 50.0 Test Accuracy 50.0\n",
      "Epoch 13 Train Accuracy 50.0 Test Accuracy 50.0\n",
      "Epoch 14 Train Accuracy 50.0 Test Accuracy 50.0\n",
      "Epoch 15 Train Accuracy 50.0 Test Accuracy 50.0\n",
      "Epoch 16 Train Accuracy 50.0 Test Accuracy 50.0\n",
      "Epoch 17 Train Accuracy 50.0 Test Accuracy 50.0\n",
      "Epoch 18 Train Accuracy 50.0 Test Accuracy 50.0\n",
      "Epoch 19 Train Accuracy 50.0 Test Accuracy 50.0\n",
      "Epoch 20 Train Accuracy 50.0 Test Accuracy 50.0\n",
      "Epoch 21 Train Accuracy 50.0 Test Accuracy 50.0\n",
      "Epoch 22 Train Accuracy 50.0 Test Accuracy 50.0\n",
      "Epoch 23 Train Accuracy 50.0 Test Accuracy 50.0\n",
      "Epoch 24 Train Accuracy 50.0 Test Accuracy 50.0\n"
     ]
    }
   ],
   "source": [
    "model2.train()\n",
    "trainloss_selu = []\n",
    "testacc_selu = []\n",
    "for epoch in range(numepochs):\n",
    "    for i,(data,labels) in enumerate(trainloader):\n",
    "        data = data.to(device)\n",
    "        labels = labels.to(device)\n",
    "        optimizer.zero_grad()\n",
    "        output = model2(data)\n",
    "        loss = F.nll_loss(output,labels)\n",
    "        \n",
    "        loss.backward()\n",
    "        optimizer_selu.step()\n",
    "        \n",
    "        trainloss_selu.append(loss)\n",
    "        \n",
    "    train_acc = evaluate_accuracy(model2,trainloader)\n",
    "    test_acc = evaluate_accuracy(model2,testloader)\n",
    "    testacc_selu.append(test_acc)\n",
    "    print(\"Epoch {} Train Accuracy {} Test Accuracy {}\".format(epoch,train_acc,test_acc))"
   ]
  },
  {
   "cell_type": "code",
   "execution_count": 85,
   "metadata": {},
   "outputs": [],
   "source": [
    "import matplotlib.pyplot as plt"
   ]
  },
  {
   "cell_type": "code",
   "execution_count": 86,
   "metadata": {},
   "outputs": [],
   "source": [
    "iterations = range(numepochs)"
   ]
  },
  {
   "cell_type": "code",
   "execution_count": 88,
   "metadata": {},
   "outputs": [
    {
     "data": {
      "image/png": "[encoded data removed]",
      "text/plain": [
       "<Figure size 432x288 with 1 Axes>"
      ]
     },
     "metadata": {
      "needs_background": "light"
     },
     "output_type": "display_data"
    }
   ],
   "source": [
    "plt.plot(iterations,testacc_relu,label='RELU Accuracy')\n",
    "plt.plot(iterations,testacc_selu,label='SELU Accuracy')\n",
    "plt.ylabel('Accuracy')\n",
    "plt.xlabel('Epochs')\n",
    "plt.legend()\n",
    "plt.show()"
   ]
  },
  {
   "cell_type": "code",
   "execution_count": 89,
   "metadata": {},
   "outputs": [],
   "source": [
    "batches = range(len(trainloss_relu))"
   ]
  },
  {
   "cell_type": "code",
   "execution_count": 92,
   "metadata": {},
   "outputs": [
    {
     "data": {
      "image/png": "[encoded data removed]",
      "text/plain": [
       "<Figure size 432x288 with 1 Axes>"
      ]
     },
     "metadata": {
      "needs_background": "light"
     },
     "output_type": "display_data"
    }
   ],
   "source": [
    "plt.plot(batches,trainloss_relu,label='RELU Loss')\n",
    "plt.ylabel('Loss')\n",
    "plt.xlabel('Batches')\n",
    "plt.legend()\n",
    "plt.show()"
   ]
  },
  {
   "cell_type": "code",
   "execution_count": 93,
   "metadata": {},
   "outputs": [
    {
     "data": {
      "image/png": "[encoded data removed]",
      "text/plain": [
       "<Figure size 432x288 with 1 Axes>"
      ]
     },
     "metadata": {
      "needs_background": "light"
     },
     "output_type": "display_data"
    }
   ],
   "source": [
    "plt.plot(batches,trainloss_selu,label='SELU Loss')\n",
    "plt.ylabel('Loss')\n",
    "plt.xlabel('Batches')\n",
    "plt.legend()\n",
    "plt.show()"
   ]
  },
  {
   "cell_type": "code",
   "execution_count": null,
   "metadata": {},
   "outputs": [],
   "source": []
  }
 ],
 "metadata": {
  "kernelspec": {
   "display_name": "Python 3",
   "language": "python",
   "name": "python3"
  },
  "language_info": {
   "codemirror_mode": {
    "name": "ipython",
    "version": 3
   },
   "file_extension": ".py",
   "mimetype": "text/x-python",
   "name": "python",
   "nbconvert_exporter": "python",
   "pygments_lexer": "ipython3",
   "version": "3.6.7"
  }
 },
 "nbformat": 4,
 "nbformat_minor": 2
}
