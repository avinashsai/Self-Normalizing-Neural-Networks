{
 "cells": [
  {
   "cell_type": "code",
   "execution_count": 5,
   "metadata": {},
   "outputs": [],
   "source": [
    "import os\n",
    "import re\n",
    "import sys\n",
    "import numpy as np\n",
    "import torch\n",
    "import torch.nn as nn\n",
    "import torch.nn.functional as F\n",
    "import torch.optim as optim\n",
    "import torchvision\n",
    "from torchvision import transforms,datasets\n",
    "import torch.utils.data"
   ]
  },
  {
   "cell_type": "code",
   "execution_count": 3,
   "metadata": {},
   "outputs": [
    {
     "data": {
      "text/plain": [
       "<torch._C.Generator at 0xc14a1d4750>"
      ]
     },
     "execution_count": 3,
     "metadata": {},
     "output_type": "execute_result"
    }
   ],
   "source": [
    "torch.manual_seed(42)"
   ]
  },
  {
   "cell_type": "code",
   "execution_count": 4,
   "metadata": {},
   "outputs": [],
   "source": [
    "device = torch.device(\"cuda:0\" if torch.cuda.is_available() else \"cpu\")"
   ]
  },
  {
   "cell_type": "code",
   "execution_count": 7,
   "metadata": {},
   "outputs": [],
   "source": [
    "batchsize = 128"
   ]
  },
  {
   "cell_type": "code",
   "execution_count": 6,
   "metadata": {},
   "outputs": [
    {
     "name": "stdout",
     "output_type": "stream",
     "text": [
      "Downloading http://yann.lecun.com/exdb/mnist/train-images-idx3-ubyte.gz\n",
      "Downloading http://yann.lecun.com/exdb/mnist/train-labels-idx1-ubyte.gz\n",
      "Downloading http://yann.lecun.com/exdb/mnist/t10k-images-idx3-ubyte.gz\n",
      "Downloading http://yann.lecun.com/exdb/mnist/t10k-labels-idx1-ubyte.gz\n",
      "Processing...\n",
      "Done!\n"
     ]
    }
   ],
   "source": [
    "train_loader = torch.utils.data.DataLoader(\n",
    "        datasets.MNIST('', train=True, download=True,\n",
    "                       transform=transforms.Compose([\n",
    "                           transforms.ToTensor(),\n",
    "                           transforms.Normalize((0.1307,), (0.3081,))\n",
    "                       ])),\n",
    "        batch_size=batchsize, shuffle=True)"
   ]
  },
  {
   "cell_type": "code",
   "execution_count": 8,
   "metadata": {},
   "outputs": [],
   "source": [
    "test_loader = torch.utils.data.DataLoader(\n",
    "        datasets.MNIST('', train=False, download=True,\n",
    "                       transform=transforms.Compose([\n",
    "                           transforms.ToTensor(),\n",
    "                           transforms.Normalize((0.1307,), (0.3081,))\n",
    "                       ])),batch_size=batchsize, shuffle=True)"
   ]
  },
  {
   "cell_type": "code",
   "execution_count": 11,
   "metadata": {},
   "outputs": [],
   "source": [
    "inp = 784\n",
    "layer1 = 256\n",
    "layer2 = 64\n",
    "out = 10"
   ]
  },
  {
   "cell_type": "code",
   "execution_count": 28,
   "metadata": {},
   "outputs": [],
   "source": [
    "class model1(nn.Module):\n",
    "    def __init__(self):\n",
    "        super(model1,self).__init__()\n",
    "        self.fc1 = nn.Linear(inp,layer1)\n",
    "        self.fc2 = nn.Linear(layer1,layer2)\n",
    "        self.fc3 = nn.Linear(layer2,out)\n",
    "        self.drop = nn.Dropout(0.3)\n",
    "        self.relu = nn.ReLU()\n",
    "    def forward(self,x):\n",
    "        out = self.drop(self.relu(self.fc1(x)))\n",
    "        out = self.drop(self.relu(self.fc2(out)))\n",
    "        return F.log_softmax(self.fc3(out),dim=1)"
   ]
  },
  {
   "cell_type": "code",
   "execution_count": 29,
   "metadata": {},
   "outputs": [],
   "source": [
    "model_relu = model1().to(device)"
   ]
  },
  {
   "cell_type": "code",
   "execution_count": 30,
   "metadata": {},
   "outputs": [],
   "source": [
    "optimizer = optim.Adam(model_relu.parameters())"
   ]
  },
  {
   "cell_type": "code",
   "execution_count": 31,
   "metadata": {},
   "outputs": [],
   "source": [
    "def calculate_accuracy(net,loader):\n",
    "    with torch.no_grad():\n",
    "        net.eval()\n",
    "        correct = 0\n",
    "        total = 0\n",
    "        for i,(Xtrain,ytrain) in enumerate(loader):\n",
    "            Xtrain = Xtrain.to(device).view(Xtrain.size(0),-1)\n",
    "            ytrain = ytrain.to(device)\n",
    "            \n",
    "            output = net(Xtrain)\n",
    "            \n",
    "            _,predictions = torch.max(output,1)\n",
    "            correct+=torch.sum(predictions==ytrain).item()\n",
    "            total+=Xtrain.size(0)\n",
    "        \n",
    "        return ((correct/total)*100)"
   ]
  },
  {
   "cell_type": "code",
   "execution_count": 34,
   "metadata": {},
   "outputs": [],
   "source": [
    "numepochs = 15"
   ]
  },
  {
   "cell_type": "code",
   "execution_count": 35,
   "metadata": {},
   "outputs": [
    {
     "name": "stdout",
     "output_type": "stream",
     "text": [
      "Epoch 0 Train Accuracy 97.175 Test Accuracy 96.67999999999999\n",
      "Epoch 1 Train Accuracy 98.46333333333334 Test Accuracy 97.50999999999999\n",
      "Epoch 2 Train Accuracy 98.89833333333333 Test Accuracy 97.92999999999999\n",
      "Epoch 3 Train Accuracy 98.81 Test Accuracy 97.55\n",
      "Epoch 4 Train Accuracy 99.24 Test Accuracy 97.83\n",
      "Epoch 5 Train Accuracy 99.52333333333333 Test Accuracy 98.0\n",
      "Epoch 6 Train Accuracy 99.32 Test Accuracy 97.68\n",
      "Epoch 7 Train Accuracy 99.33166666666666 Test Accuracy 97.72999999999999\n",
      "Epoch 8 Train Accuracy 99.69166666666666 Test Accuracy 98.07000000000001\n",
      "Epoch 9 Train Accuracy 99.68 Test Accuracy 97.82\n",
      "Epoch 10 Train Accuracy 99.56 Test Accuracy 97.88\n",
      "Epoch 11 Train Accuracy 99.595 Test Accuracy 98.06\n",
      "Epoch 12 Train Accuracy 99.61833333333333 Test Accuracy 97.89\n",
      "Epoch 13 Train Accuracy 99.36333333333334 Test Accuracy 97.55\n",
      "Epoch 14 Train Accuracy 99.56 Test Accuracy 97.91\n"
     ]
    }
   ],
   "source": [
    "model_relu.train()\n",
    "trainloss_relu = []\n",
    "testacc_relu = []\n",
    "for epoch in range(numepochs):\n",
    "    for i,(data,labels) in enumerate(train_loader):\n",
    "        data = data.to(device).view(data.size(0),-1)\n",
    "        labels = labels.to(device)\n",
    "        optimizer.zero_grad()\n",
    "        output = model_relu(data)\n",
    "        loss = F.nll_loss(output,labels)\n",
    "        \n",
    "        loss.backward()\n",
    "        optimizer.step()\n",
    "        \n",
    "        trainloss_relu.append(loss)\n",
    "        \n",
    "    train_acc = calculate_accuracy(model_relu,train_loader)\n",
    "    test_acc = calculate_accuracy(model_relu,test_loader)\n",
    "    testacc_relu.append(test_acc)\n",
    "    \n",
    "    print(\"Epoch {} Train Accuracy {} Test Accuracy {}\".format(epoch,train_acc,test_acc))"
   ]
  },
  {
   "cell_type": "code",
   "execution_count": 40,
   "metadata": {},
   "outputs": [],
   "source": [
    "class model2(nn.Module):\n",
    "    def __init__(self):\n",
    "        super(model2,self).__init__()\n",
    "        self.fc1 = nn.Linear(inp,layer1)\n",
    "        self.fc2 = nn.Linear(layer1,layer2)\n",
    "        self.fc3 = nn.Linear(layer2,out)\n",
    "        self.drop = nn.Dropout(0.3)\n",
    "        self.relu = nn.SELU()\n",
    "    def forward(self,x):\n",
    "        out = self.drop(self.relu(self.fc1(x)))\n",
    "        out = self.drop(self.relu(self.fc2(out)))\n",
    "        return F.log_softmax(self.fc3(out),dim=1)"
   ]
  },
  {
   "cell_type": "code",
   "execution_count": 41,
   "metadata": {},
   "outputs": [],
   "source": [
    "model_selu = model2().to(device)"
   ]
  },
  {
   "cell_type": "code",
   "execution_count": 42,
   "metadata": {},
   "outputs": [],
   "source": [
    "optimizer = optim.Adam(model_selu.parameters())"
   ]
  },
  {
   "cell_type": "code",
   "execution_count": 43,
   "metadata": {},
   "outputs": [
    {
     "name": "stdout",
     "output_type": "stream",
     "text": [
      "Epoch 0 Train Accuracy 94.98 Test Accuracy 94.67\n",
      "Epoch 1 Train Accuracy 97.14500000000001 Test Accuracy 96.34\n",
      "Epoch 2 Train Accuracy 98.02833333333332 Test Accuracy 97.19\n",
      "Epoch 3 Train Accuracy 98.39833333333333 Test Accuracy 97.32\n",
      "Epoch 4 Train Accuracy 98.42666666666666 Test Accuracy 97.15\n",
      "Epoch 5 Train Accuracy 99.06166666666667 Test Accuracy 97.6\n",
      "Epoch 6 Train Accuracy 99.09666666666666 Test Accuracy 97.71\n",
      "Epoch 7 Train Accuracy 99.31166666666667 Test Accuracy 97.83\n",
      "Epoch 8 Train Accuracy 99.22833333333332 Test Accuracy 97.48\n",
      "Epoch 9 Train Accuracy 99.46833333333333 Test Accuracy 97.83\n",
      "Epoch 10 Train Accuracy 99.36166666666666 Test Accuracy 97.47\n",
      "Epoch 11 Train Accuracy 99.60333333333334 Test Accuracy 97.92\n",
      "Epoch 12 Train Accuracy 99.45 Test Accuracy 97.72999999999999\n",
      "Epoch 13 Train Accuracy 99.57333333333334 Test Accuracy 97.65\n",
      "Epoch 14 Train Accuracy 99.595 Test Accuracy 98.08\n"
     ]
    }
   ],
   "source": [
    "model_selu.train()\n",
    "trainloss_selu = []\n",
    "testacc_selu = []\n",
    "for epoch in range(numepochs):\n",
    "    for i,(data,labels) in enumerate(train_loader):\n",
    "        data = data.to(device).view(data.size(0),-1)\n",
    "        labels = labels.to(device)\n",
    "        optimizer.zero_grad()\n",
    "        output = model_selu(data)\n",
    "        loss = F.nll_loss(output,labels)\n",
    "        \n",
    "        loss.backward()\n",
    "        optimizer.step()\n",
    "        \n",
    "        trainloss_selu.append(loss)\n",
    "        \n",
    "    train_acc = calculate_accuracy(model_selu,train_loader)\n",
    "    test_acc = calculate_accuracy(model_selu,test_loader)\n",
    "    testacc_selu.append(test_acc)\n",
    "    \n",
    "    print(\"Epoch {} Train Accuracy {} Test Accuracy {}\".format(epoch,train_acc,test_acc))"
   ]
  },
  {
   "cell_type": "code",
   "execution_count": 44,
   "metadata": {},
   "outputs": [],
   "source": [
    "import matplotlib.pyplot as plt"
   ]
  },
  {
   "cell_type": "code",
   "execution_count": 47,
   "metadata": {},
   "outputs": [],
   "source": [
    "iterations = range(numepochs)"
   ]
  },
  {
   "cell_type": "code",
   "execution_count": 48,
   "metadata": {},
   "outputs": [
    {
     "data": {
      "image/png": "[encoded data removed]",
      "text/plain": [
       "<Figure size 432x288 with 1 Axes>"
      ]
     },
     "metadata": {
      "needs_background": "light"
     },
     "output_type": "display_data"
    }
   ],
   "source": [
    "plt.plot(testacc_relu,iterations,label='RELU Accuracy')\n",
    "plt.plot(testacc_selu,iterations,label='SELU Accuracy')\n",
    "plt.xlabel('Accuracy')\n",
    "plt.ylabel('Epochs')\n",
    "plt.legend()\n",
    "plt.show()"
   ]
  },
  {
   "cell_type": "code",
   "execution_count": 49,
   "metadata": {},
   "outputs": [],
   "source": [
    "batches = range(len(trainloss_relu))"
   ]
  },
  {
   "cell_type": "code",
   "execution_count": 52,
   "metadata": {},
   "outputs": [
    {
     "data": {
      "image/png": "[encoded data removed]",
      "text/plain": [
       "<Figure size 432x288 with 1 Axes>"
      ]
     },
     "metadata": {
      "needs_background": "light"
     },
     "output_type": "display_data"
    }
   ],
   "source": [
    "plt.plot(trainloss_relu,batches,label='RELU Loss')\n",
    "plt.xlabel('Loss')\n",
    "plt.ylabel('Batches')\n",
    "plt.legend()\n",
    "plt.show()"
   ]
  },
  {
   "cell_type": "code",
   "execution_count": 53,
   "metadata": {},
   "outputs": [
    {
     "data": {
      "image/png": "[encoded data removed]",
      "text/plain": [
       "<Figure size 432x288 with 1 Axes>"
      ]
     },
     "metadata": {
      "needs_background": "light"
     },
     "output_type": "display_data"
    }
   ],
   "source": [
    "plt.plot(trainloss_selu,batches,label='SELU Loss')\n",
    "plt.xlabel('Loss')\n",
    "plt.ylabel('Batches')\n",
    "plt.legend()\n",
    "plt.show()"
   ]
  },
  {
   "cell_type": "code",
   "execution_count": null,
   "metadata": {},
   "outputs": [],
   "source": []
  }
 ],
 "metadata": {
  "kernelspec": {
   "display_name": "Python 3",
   "language": "python",
   "name": "python3"
  },
  "language_info": {
   "codemirror_mode": {
    "name": "ipython",
    "version": 3
   },
   "file_extension": ".py",
   "mimetype": "text/x-python",
   "name": "python",
   "nbconvert_exporter": "python",
   "pygments_lexer": "ipython3",
   "version": "3.6.7"
  }
 },
 "nbformat": 4,
 "nbformat_minor": 2
}
