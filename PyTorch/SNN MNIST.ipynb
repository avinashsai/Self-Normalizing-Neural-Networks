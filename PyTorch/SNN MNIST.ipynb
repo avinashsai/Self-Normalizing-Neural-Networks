{
 "cells": [
  {
   "cell_type": "code",
   "execution_count": 1,
   "metadata": {
    "colab": {},
    "colab_type": "code",
    "id": "TzwlOeE-nGdo"
   },
   "outputs": [],
   "source": [
    "import os\n",
    "import re\n",
    "import sys\n",
    "import numpy as np\n",
    "import torch\n",
    "import torch.nn as nn\n",
    "import torch.nn.functional as F\n",
    "import torch.optim as optim\n",
    "import torchvision\n",
    "from torchvision import transforms,datasets\n",
    "import torch.utils.data"
   ]
  },
  {
   "cell_type": "code",
   "execution_count": 2,
   "metadata": {
    "colab": {},
    "colab_type": "code",
    "id": "EQnEutKpnGds"
   },
   "outputs": [],
   "source": [
    "import torch.autograd\n",
    "from torch.autograd import Variable\n",
    "import math\n",
    "import torch.distributions as dist"
   ]
  },
  {
   "cell_type": "code",
   "execution_count": 3,
   "metadata": {},
   "outputs": [
    {
     "data": {
      "text/plain": [
       "'1.0.0'"
      ]
     },
     "execution_count": 3,
     "metadata": {},
     "output_type": "execute_result"
    }
   ],
   "source": [
    "torch.__version__"
   ]
  },
  {
   "cell_type": "code",
   "execution_count": 4,
   "metadata": {
    "colab": {
     "base_uri": "https://localhost:8080/",
     "height": 34
    },
    "colab_type": "code",
    "id": "kjoGEh79nGdu",
    "outputId": "886e5a59-f6ea-4367-ed5c-b955bcaf5922"
   },
   "outputs": [
    {
     "data": {
      "text/plain": [
       "<torch._C.Generator at 0x83dd383950>"
      ]
     },
     "execution_count": 4,
     "metadata": {},
     "output_type": "execute_result"
    }
   ],
   "source": [
    "torch.manual_seed(42)"
   ]
  },
  {
   "cell_type": "code",
   "execution_count": 5,
   "metadata": {
    "colab": {},
    "colab_type": "code",
    "id": "gm9k8lZ0nGd0"
   },
   "outputs": [],
   "source": [
    "device = torch.device(\"cuda:0\" if torch.cuda.is_available() else \"cpu\")"
   ]
  },
  {
   "cell_type": "code",
   "execution_count": 6,
   "metadata": {
    "colab": {},
    "colab_type": "code",
    "id": "ccsAwTr6nGd2"
   },
   "outputs": [],
   "source": [
    "batchsize = 100"
   ]
  },
  {
   "cell_type": "code",
   "execution_count": 23,
   "metadata": {
    "colab": {
     "base_uri": "https://localhost:8080/",
     "height": 119
    },
    "colab_type": "code",
    "id": "7YjSN3pznGd5",
    "outputId": "df6e743a-578a-4b88-d96d-2ba72a1e502b"
   },
   "outputs": [],
   "source": [
    "train_loader = torch.utils.data.DataLoader(\n",
    "        datasets.MNIST('', train=True, download=True,\n",
    "                       transform=transforms.Compose([\n",
    "                           transforms.ToTensor(),\n",
    "                           transforms.Normalize((0.1307,), (0.3081,))\n",
    "                       ])),\n",
    "        batch_size=batchsize, shuffle=True)"
   ]
  },
  {
   "cell_type": "code",
   "execution_count": 24,
   "metadata": {
    "colab": {},
    "colab_type": "code",
    "id": "3Z0OcY2snGd8"
   },
   "outputs": [],
   "source": [
    "test_loader = torch.utils.data.DataLoader(\n",
    "        datasets.MNIST('', train=False, download=True,\n",
    "                       transform=transforms.Compose([\n",
    "                           transforms.ToTensor(),\n",
    "                           transforms.Normalize((0.1307,), (0.3081,))\n",
    "                       ])),batch_size=batchsize, shuffle=True)"
   ]
  },
  {
   "cell_type": "code",
   "execution_count": 11,
   "metadata": {
    "colab": {},
    "colab_type": "code",
    "id": "j2WeVblEnGeI"
   },
   "outputs": [],
   "source": [
    "inp = 784\n",
    "layer1 = 128\n",
    "layer2 = 64\n",
    "out = 10"
   ]
  },
  {
   "cell_type": "code",
   "execution_count": 12,
   "metadata": {
    "colab": {},
    "colab_type": "code",
    "id": "5t5pMxIPnGeL"
   },
   "outputs": [],
   "source": [
    "class model1(nn.Module):\n",
    "    def __init__(self):\n",
    "        super(model1,self).__init__()\n",
    "        self.fc1 = nn.Linear(inp,layer1)\n",
    "        self.fc2 = nn.Linear(layer1,layer2)\n",
    "        self.fc3 = nn.Linear(layer2,out)\n",
    "        self.drop = nn.Dropout(0.2)\n",
    "        self.relu = nn.ReLU()\n",
    "    def forward(self,x):\n",
    "        out = self.drop(self.relu(self.fc1(x)))\n",
    "        out = self.drop(self.relu(self.fc2(out)))\n",
    "        return F.log_softmax(self.fc3(out),dim=1)"
   ]
  },
  {
   "cell_type": "code",
   "execution_count": 13,
   "metadata": {
    "colab": {},
    "colab_type": "code",
    "id": "k_UJJW10nGeO"
   },
   "outputs": [],
   "source": [
    "model_relu = model1().to(device)"
   ]
  },
  {
   "cell_type": "code",
   "execution_count": 14,
   "metadata": {
    "colab": {},
    "colab_type": "code",
    "id": "Q_kcJHTXnGeR"
   },
   "outputs": [],
   "source": [
    "optimizer = optim.Adam(model_relu.parameters())"
   ]
  },
  {
   "cell_type": "code",
   "execution_count": 17,
   "metadata": {
    "colab": {},
    "colab_type": "code",
    "id": "asj2JBG4nGeT"
   },
   "outputs": [],
   "source": [
    "def calculate_accuracy(net,loader):\n",
    "    with torch.no_grad():\n",
    "        net.eval()\n",
    "        correct = 0\n",
    "        total = 0\n",
    "        for i,(Xtrain,ytrain) in enumerate(loader):\n",
    "            Xtrain = Xtrain.to(device).view(Xtrain.size(0),-1)\n",
    "            ytrain = ytrain.to(device)\n",
    "            \n",
    "            output = net(Xtrain)\n",
    "            \n",
    "            _,predictions = torch.max(output,1)\n",
    "            correct+=torch.sum(predictions==ytrain).item()\n",
    "            total+=Xtrain.size(0)\n",
    "        \n",
    "        return ((correct/total)*100)"
   ]
  },
  {
   "cell_type": "code",
   "execution_count": 18,
   "metadata": {
    "colab": {},
    "colab_type": "code",
    "id": "5hF5I1iunGeW"
   },
   "outputs": [],
   "source": [
    "numepochs = 10"
   ]
  },
  {
   "cell_type": "code",
   "execution_count": 19,
   "metadata": {
    "colab": {
     "base_uri": "https://localhost:8080/",
     "height": 357
    },
    "colab_type": "code",
    "id": "kOeL1HsEnGeZ",
    "outputId": "62792dbe-b26c-42f7-9993-13c1631dad79"
   },
   "outputs": [
    {
     "name": "stdout",
     "output_type": "stream",
     "text": [
      "Epoch 0 Train Accuracy 97.00999999999999 Test Accuracy 96.61999999999999\n",
      "Epoch 1 Train Accuracy 97.98 Test Accuracy 97.14\n",
      "Epoch 2 Train Accuracy 98.295 Test Accuracy 97.34\n",
      "Epoch 3 Train Accuracy 98.98666666666666 Test Accuracy 97.89999999999999\n",
      "Epoch 4 Train Accuracy 99.14166666666667 Test Accuracy 97.7\n",
      "Epoch 5 Train Accuracy 99.15666666666667 Test Accuracy 97.83\n",
      "Epoch 6 Train Accuracy 99.26666666666667 Test Accuracy 97.89\n",
      "Epoch 7 Train Accuracy 99.35333333333334 Test Accuracy 97.67\n",
      "Epoch 8 Train Accuracy 99.37833333333333 Test Accuracy 97.77\n",
      "Epoch 9 Train Accuracy 99.33833333333332 Test Accuracy 97.63\n"
     ]
    }
   ],
   "source": [
    "model_relu.train()\n",
    "trainloss_relu = []\n",
    "testacc_relu = []\n",
    "for epoch in range(numepochs):\n",
    "    for i,(data,labels) in enumerate(train_loader):\n",
    "        data = data.to(device).view(data.size(0),-1)\n",
    "        labels = labels.to(device)\n",
    "        optimizer.zero_grad()\n",
    "        output = model_relu(data)\n",
    "        loss = F.nll_loss(output,labels)\n",
    "        \n",
    "        loss.backward()\n",
    "        optimizer.step()\n",
    "        \n",
    "        trainloss_relu.append(loss)\n",
    "        \n",
    "    train_acc = calculate_accuracy(model_relu,train_loader)\n",
    "    test_acc = calculate_accuracy(model_relu,test_loader)\n",
    "    testacc_relu.append(test_acc)\n",
    "    \n",
    "    print(\"Epoch {} Train Accuracy {} Test Accuracy {}\".format(epoch,train_acc,test_acc))"
   ]
  },
  {
   "cell_type": "code",
   "execution_count": 28,
   "metadata": {
    "colab": {},
    "colab_type": "code",
    "id": "nLLnAQMgnGed"
   },
   "outputs": [],
   "source": [
    "class model2(nn.Module):\n",
    "    def __init__(self):\n",
    "        super(model2,self).__init__()\n",
    "        self.drop = nn.AlphaDropout(0.2)\n",
    "        self.selu = nn.SELU()\n",
    "        self.fc1 = nn.Linear(inp,layer1)\n",
    "        self.fc2 = nn.Linear(layer1,layer2)\n",
    "        self.fc3 = nn.Linear(layer2,out)\n",
    "    def init_weights(self):\n",
    "        torch.nn.init.normal_(self.fc1.weight.data, mean=0, std=math.sqrt(1/inp))\n",
    "        torch.nn.init.normal_(self.fc1.bias.data, mean=0, std=0)\n",
    "        torch.nn.init.normal_(self.fc2.weight.data, mean=0, std=math.sqrt(1/layer1))\n",
    "        torch.nn.init.normal_(self.fc2.bias.data, mean=0, std=0)\n",
    "        torch.nn.init.normal_(self.fc3.weight.data, mean=0, std=math.sqrt(1/layer2))\n",
    "        torch.nn.init.normal_(self.fc3.bias.data, mean=0)\n",
    "    def forward(self,x):\n",
    "        out = self.drop(self.selu(self.fc1(x)))\n",
    "        out = self.drop(self.selu(self.fc2(out)))\n",
    "        out = F.log_softmax(self.fc3(out),dim=1)\n",
    "        return out"
   ]
  },
  {
   "cell_type": "code",
   "execution_count": 29,
   "metadata": {
    "colab": {},
    "colab_type": "code",
    "id": "ykWa9WkC6dBK"
   },
   "outputs": [],
   "source": [
    "model_selu = model2().to(device)"
   ]
  },
  {
   "cell_type": "code",
   "execution_count": 30,
   "metadata": {
    "colab": {},
    "colab_type": "code",
    "id": "UxiLDIEN_XSz"
   },
   "outputs": [],
   "source": [
    "model_selu.init_weights()"
   ]
  },
  {
   "cell_type": "code",
   "execution_count": 31,
   "metadata": {
    "colab": {},
    "colab_type": "code",
    "id": "G-56KpfVRGkq"
   },
   "outputs": [],
   "source": [
    "optimizer = optim.Adam(model_selu.parameters())"
   ]
  },
  {
   "cell_type": "code",
   "execution_count": 32,
   "metadata": {
    "colab": {
     "base_uri": "https://localhost:8080/",
     "height": 187
    },
    "colab_type": "code",
    "id": "it5br6SdnGeq",
    "outputId": "c6a36f28-b306-4b3f-8176-b07587624182"
   },
   "outputs": [
    {
     "name": "stdout",
     "output_type": "stream",
     "text": [
      "Epoch 0 Train Accuracy 94.73 Test Accuracy 94.53\n",
      "Epoch 1 Train Accuracy 97.63333333333334 Test Accuracy 96.69\n",
      "Epoch 2 Train Accuracy 98.40833333333333 Test Accuracy 97.35000000000001\n",
      "Epoch 3 Train Accuracy 98.595 Test Accuracy 97.37\n",
      "Epoch 4 Train Accuracy 98.97666666666667 Test Accuracy 97.50999999999999\n",
      "Epoch 5 Train Accuracy 98.81833333333333 Test Accuracy 97.41\n",
      "Epoch 6 Train Accuracy 99.18833333333333 Test Accuracy 97.61\n",
      "Epoch 7 Train Accuracy 99.35166666666667 Test Accuracy 97.61999999999999\n",
      "Epoch 8 Train Accuracy 99.55166666666668 Test Accuracy 97.78\n",
      "Epoch 9 Train Accuracy 99.65666666666667 Test Accuracy 97.97\n"
     ]
    }
   ],
   "source": [
    "model_selu.train()\n",
    "trainloss_selu = []\n",
    "testacc_selu = []\n",
    "for epoch in range(numepochs):\n",
    "    for i,(data,labels) in enumerate(train_loader):\n",
    "        data = data.to(device).view(data.size(0),-1)\n",
    "        labels = labels.to(device)\n",
    "        model_selu.zero_grad()\n",
    "        output = model_selu(data)\n",
    "        loss = F.nll_loss(output,labels)\n",
    "        \n",
    "        loss.backward()\n",
    "        optimizer.step()\n",
    "        \n",
    "        trainloss_selu.append(loss)\n",
    "        \n",
    "        \n",
    "    train_acc = calculate_accuracy(model_selu,train_loader)\n",
    "    test_acc = calculate_accuracy(model_selu,test_loader)\n",
    "    testacc_selu.append(test_acc)\n",
    "    \n",
    "    print(\"Epoch {} Train Accuracy {} Test Accuracy {}\".format(epoch,train_acc,test_acc))"
   ]
  },
  {
   "cell_type": "code",
   "execution_count": 33,
   "metadata": {
    "colab": {},
    "colab_type": "code",
    "id": "lcpnYrm3nGeu"
   },
   "outputs": [],
   "source": [
    "import matplotlib.pyplot as plt"
   ]
  },
  {
   "cell_type": "code",
   "execution_count": 34,
   "metadata": {
    "colab": {},
    "colab_type": "code",
    "id": "0QycX51gnGex"
   },
   "outputs": [],
   "source": [
    "iterations = range(numepochs)"
   ]
  },
  {
   "cell_type": "code",
   "execution_count": 35,
   "metadata": {
    "colab": {},
    "colab_type": "code",
    "id": "KqHB2xa9nGez",
    "outputId": "20b0fe47-2107-4687-b951-69e1f19cf9d6"
   },
   "outputs": [
    {
     "data": {
      "image/png": "[encoded data removed]",
      "text/plain": [
       "<Figure size 432x288 with 1 Axes>"
      ]
     },
     "metadata": {
      "needs_background": "light"
     },
     "output_type": "display_data"
    }
   ],
   "source": [
    "plt.plot(testacc_relu,iterations,label='RELU Accuracy')\n",
    "plt.plot(testacc_selu,iterations,label='SELU Accuracy')\n",
    "plt.xlabel('Accuracy')\n",
    "plt.ylabel('Epochs')\n",
    "plt.legend()\n",
    "plt.show()"
   ]
  },
  {
   "cell_type": "code",
   "execution_count": 36,
   "metadata": {
    "colab": {},
    "colab_type": "code",
    "id": "1Z65Rtk0nGe4"
   },
   "outputs": [],
   "source": [
    "batches = range(len(trainloss_relu))"
   ]
  },
  {
   "cell_type": "code",
   "execution_count": 37,
   "metadata": {
    "colab": {},
    "colab_type": "code",
    "id": "B5nZKiqXnGe7",
    "outputId": "328e74e5-5d97-425a-a70d-2aec1583e9dc"
   },
   "outputs": [
    {
     "data": {
      "image/png": "[encoded data removed]",
      "text/plain": [
       "<Figure size 432x288 with 1 Axes>"
      ]
     },
     "metadata": {
      "needs_background": "light"
     },
     "output_type": "display_data"
    }
   ],
   "source": [
    "plt.plot(trainloss_relu,batches,label='RELU Loss')\n",
    "plt.xlabel('Loss')\n",
    "plt.ylabel('Batches')\n",
    "plt.legend()\n",
    "plt.show()"
   ]
  },
  {
   "cell_type": "code",
   "execution_count": 38,
   "metadata": {
    "colab": {},
    "colab_type": "code",
    "id": "vAIaKkR0nGe-",
    "outputId": "84a05698-bfc7-485a-a102-9d51b5d06368"
   },
   "outputs": [
    {
     "data": {
      "image/png": "[encoded data removed]",
      "text/plain": [
       "<Figure size 432x288 with 1 Axes>"
      ]
     },
     "metadata": {
      "needs_background": "light"
     },
     "output_type": "display_data"
    }
   ],
   "source": [
    "plt.plot(trainloss_selu,batches,label='SELU Loss')\n",
    "plt.xlabel('Loss')\n",
    "plt.ylabel('Batches')\n",
    "plt.legend()\n",
    "plt.show()"
   ]
  },
  {
   "cell_type": "code",
   "execution_count": 0,
   "metadata": {
    "colab": {},
    "colab_type": "code",
    "id": "cZedakzFnGfC"
   },
   "outputs": [],
   "source": []
  }
 ],
 "metadata": {
  "accelerator": "GPU",
  "colab": {
   "collapsed_sections": [],
   "name": "SELU MNIST.ipynb",
   "provenance": [],
   "version": "0.3.2"
  },
  "kernelspec": {
   "display_name": "Python 3",
   "language": "python",
   "name": "python3"
  },
  "language_info": {
   "codemirror_mode": {
    "name": "ipython",
    "version": 3
   },
   "file_extension": ".py",
   "mimetype": "text/x-python",
   "name": "python",
   "nbconvert_exporter": "python",
   "pygments_lexer": "ipython3",
   "version": "3.6.7"
  }
 },
 "nbformat": 4,
 "nbformat_minor": 1
}
